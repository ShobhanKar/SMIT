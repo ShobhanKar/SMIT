{
 "cells": [
  {
   "cell_type": "code",
   "execution_count": 1,
   "id": "31eefdf7",
   "metadata": {},
   "outputs": [
    {
     "name": "stdout",
     "output_type": "stream",
     "text": [
      "Please Enter number of rows : 3\n",
      "Please Enter number of columns : 3\n",
      "Please enter 3 elements for row and use 1 space between each element : 1 1 2\n",
      "Please enter 3 elements for row and use 2 space between each element : 1 2 3\n",
      "Please enter 3 elements for row and use 3 space between each element : 3 4 5\n",
      "Your inputted matrix :\n",
      "1.0 1.0 2.0 \n",
      "1.0 2.0 3.0 \n",
      "3.0 4.0 5.0 \n",
      "\n",
      "Steps to convert given matrix to row echelon form: \n",
      "\n",
      "Step1:\n",
      "R2=R2-(1.0)*R1\n",
      "R3=R3-(3.0)*R1\n",
      "\n",
      "1.0 1.0 2.0 \n",
      "0.0 1.0 1.0 \n",
      "0.0 1.0 -1.0 \n",
      "\n",
      "Step2:\n",
      "R3=R3-(1.0)*R2\n",
      "\n",
      "1.0 1.0 2.0 \n",
      "0.0 1.0 1.0 \n",
      "0.0 0.0 -2.0 \n",
      "\n",
      "Row Echelon form matrix : \n",
      "1.0 1.0 2.0 \n",
      "0.0 1.0 1.0 \n",
      "0.0 0.0 -2.0 \n",
      "\n"
     ]
    }
   ],
   "source": [
    "# Display Function to print given matrix\n",
    "def show(matrix):\n",
    "    for i in range(len(matrix)):\n",
    "        for j in range(len(matrix[i])):\n",
    "            print(f\"{matrix[i][j]} \", end=\"\")\n",
    "        print()\n",
    "    print()\n",
    "    \n",
    "# Function to return the row echelon form of any matrix\n",
    "def REF(matrix):\n",
    "    print(\"Steps to convert given matrix to row echelon form: \\n\")\n",
    "    r = len(matrix)\n",
    "    c = len(matrix[0])\n",
    "    row_ech = matrix\n",
    "    for i in range(min(r, c) if r > c else min(r, c) - 1):\n",
    "        print(f\"Step{i + 1}:\")\n",
    "        for j in range(i + 1, r):\n",
    "            diff = 0 if row_ech[j][i] == 0 else row_ech[j][i] / row_ech[i][i]\n",
    "            print(f\"R{j + 1}=R{j + 1}-({diff})*R{i + 1}\")\n",
    "            row = []\n",
    "            for k in range(c):\n",
    "                row.append(row_ech[j][k] - diff * row_ech[i][k])\n",
    "            row_ech[j] = row\n",
    "        print()\n",
    "        show(row_ech)\n",
    "    return row_ech\n",
    "\n",
    "# Function to input row and column of matrix and the matrix itself from the user\n",
    "def inputMatrix():\n",
    "    r = int(input(\"Please Enter number of rows : \"))\n",
    "    c = int(input(\"Please Enter number of columns : \"))\n",
    "    matrix = []\n",
    "    for i in range(r):\n",
    "        row = input(f\"Please enter {c} elements for row and use {i + 1} space between each element : \").split()\n",
    "        matrix.append([float(k) for k in row])\n",
    "    return matrix\n",
    "\n",
    "\n",
    "matrix = inputMatrix()\n",
    "#print the user input matrix\n",
    "print(\"Your inputted matrix :\")\n",
    "show(matrix)\n",
    "\n",
    "row_ech = REF(matrix)\n",
    "#display the reduced row echelon of the matrix which was provided by the user \n",
    "print(\"Row Echelon form matrix : \")\n",
    "show(row_ech)\n"
   ]
  },
  {
   "cell_type": "code",
   "execution_count": 8,
   "id": "dc586c36",
   "metadata": {},
   "outputs": [],
   "source": []
  },
  {
   "cell_type": "code",
   "execution_count": null,
   "id": "10602c6c",
   "metadata": {},
   "outputs": [],
   "source": []
  }
 ],
 "metadata": {
  "kernelspec": {
   "display_name": "Python 3 (ipykernel)",
   "language": "python",
   "name": "python3"
  },
  "language_info": {
   "codemirror_mode": {
    "name": "ipython",
    "version": 3
   },
   "file_extension": ".py",
   "mimetype": "text/x-python",
   "name": "python",
   "nbconvert_exporter": "python",
   "pygments_lexer": "ipython3",
   "version": "3.9.12"
  }
 },
 "nbformat": 4,
 "nbformat_minor": 5
}
